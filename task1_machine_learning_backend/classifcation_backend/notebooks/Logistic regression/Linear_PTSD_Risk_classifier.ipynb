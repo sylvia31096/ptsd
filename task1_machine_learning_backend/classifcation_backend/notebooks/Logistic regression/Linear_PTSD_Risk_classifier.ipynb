{
  "nbformat": 4,
  "nbformat_minor": 0,
  "metadata": {
    "colab": {
      "name": "Linear PTSD Risk classifier.ipynb",
      "version": "0.3.2",
      "provenance": []
    },
    "kernelspec": {
      "name": "python3",
      "display_name": "Python 3"
    },
    "accelerator": "GPU"
  },
  "cells": [
    {
      "cell_type": "markdown",
      "metadata": {
        "id": "utAT7h87EXrE",
        "colab_type": "text"
      },
      "source": [
        "Performing text classifications without deep learning. But I will still use pretrained vectors. "
      ]
    },
    {
      "cell_type": "markdown",
      "metadata": {
        "id": "KgVfnBkfJGAZ",
        "colab_type": "text"
      },
      "source": [
        "## Getting the dataset"
      ]
    },
    {
      "cell_type": "code",
      "metadata": {
        "colab_type": "code",
        "outputId": "87cec61c-e8e1-4fbc-f902-f06a88905d8f",
        "id": "fHjqXCKGGtuG",
        "colab": {
          "base_uri": "https://localhost:8080/",
          "height": 33
        }
      },
      "source": [
        "from google.colab import drive\n",
        "drive.mount('/content/drive')"
      ],
      "execution_count": 0,
      "outputs": [
        {
          "output_type": "stream",
          "text": [
            "Drive already mounted at /content/drive; to attempt to forcibly remount, call drive.mount(\"/content/drive\", force_remount=True).\n"
          ],
          "name": "stdout"
        }
      ]
    },
    {
      "cell_type": "markdown",
      "metadata": {
        "id": "99hhEU5RtFXN",
        "colab_type": "text"
      },
      "source": [
        "Import required libraries"
      ]
    },
    {
      "cell_type": "code",
      "metadata": {
        "id": "l0M09xk7tZV8",
        "colab_type": "code",
        "colab": {}
      },
      "source": [
        "!pip install --upgrade --quiet gspread"
      ],
      "execution_count": 0,
      "outputs": []
    },
    {
      "cell_type": "code",
      "metadata": {
        "id": "I0YPr0i2tfMM",
        "colab_type": "code",
        "colab": {}
      },
      "source": [
        "from google.colab import auth\n",
        "auth.authenticate_user()\n",
        "\n",
        "import gspread\n",
        "from oauth2client.client import GoogleCredentials\n",
        "\n",
        "gc = gspread.authorize(GoogleCredentials.get_application_default())"
      ],
      "execution_count": 0,
      "outputs": []
    },
    {
      "cell_type": "code",
      "metadata": {
        "id": "L3zVW0HSw8hZ",
        "colab_type": "code",
        "outputId": "b505aaae-e95d-44fb-bef3-3735d41e6c7f",
        "colab": {
          "base_uri": "https://localhost:8080/",
          "height": 33
        }
      },
      "source": [
        "cd /content/drive/My Drive/ML Text classifier"
      ],
      "execution_count": 0,
      "outputs": [
        {
          "output_type": "stream",
          "text": [
            "/content/drive/My Drive/ML Text classifier\n"
          ],
          "name": "stdout"
        }
      ]
    },
    {
      "cell_type": "code",
      "metadata": {
        "id": "5zZd5BT6D1nE",
        "colab_type": "code",
        "colab": {}
      },
      "source": [
        "import pandas as pd\n",
        "import numpy as np\n",
        "from nltk.tokenize import word_tokenize\n",
        "import nltk\n",
        "from gensim.models import Word2Vec, KeyedVectors\n",
        "from sklearn.decomposition import PCA\n",
        "from sklearn.manifold import TSNE\n",
        "from sklearn.svm import SVC\n",
        "from sklearn.linear_model import LogisticRegression\n",
        "from sklearn.model_selection import LeaveOneOut\n",
        "\n",
        "import seaborn as sns\n",
        "import matplotlib.pyplot as plt\n",
        "from mpl_toolkits.mplot3d import Axes3D \n",
        "\n",
        "from sklearn import svm\n",
        "from sklearn.metrics import accuracy_score,confusion_matrix\n",
        "\n",
        "from sklearn.feature_selection import RFE\n",
        "%matplotlib inline"
      ],
      "execution_count": 0,
      "outputs": []
    },
    {
      "cell_type": "code",
      "metadata": {
        "id": "epIUQOt7tkEx",
        "colab_type": "code",
        "colab": {}
      },
      "source": [
        "worksheet_annotate = gc.open('PTSD_data').worksheet('Annotations')\n",
        "worksheet_text = gc.open('PTSD_data').worksheet('PTSD_data')\n",
        "\n",
        "# get_all_values gives a list of rows.\n",
        "rows_annotate = worksheet_annotate.get_all_values()\n",
        "rows_text = worksheet_text.get_all_values()\n",
        "\n",
        "\n",
        "import pandas as pd\n",
        "\n"
      ],
      "execution_count": 0,
      "outputs": []
    },
    {
      "cell_type": "markdown",
      "metadata": {
        "id": "rqH7IJtXjotI",
        "colab_type": "text"
      },
      "source": [
        "Remove the first 3 rows and set the fourth row as the header"
      ]
    },
    {
      "cell_type": "code",
      "metadata": {
        "id": "hwhRYQrVjo3m",
        "colab_type": "code",
        "outputId": "f55776d0-7b66-4d0d-cf80-ecc1fb0c0bf8",
        "colab": {
          "base_uri": "https://localhost:8080/",
          "height": 240
        }
      },
      "source": [
        "sheet_text = pd.DataFrame.from_records(rows_text)\n",
        "header = sheet_text.iloc[3]\n",
        "sheet_text = sheet_text.iloc[4:]\n",
        "sheet_text.columns = header\n",
        "\n",
        "sheet_text.head()"
      ],
      "execution_count": 0,
      "outputs": [
        {
          "output_type": "execute_result",
          "data": {
            "text/html": [
              "<div>\n",
              "<style scoped>\n",
              "    .dataframe tbody tr th:only-of-type {\n",
              "        vertical-align: middle;\n",
              "    }\n",
              "\n",
              "    .dataframe tbody tr th {\n",
              "        vertical-align: top;\n",
              "    }\n",
              "\n",
              "    .dataframe thead th {\n",
              "        text-align: right;\n",
              "    }\n",
              "</style>\n",
              "<table border=\"1\" class=\"dataframe\">\n",
              "  <thead>\n",
              "    <tr style=\"text-align: right;\">\n",
              "      <th>3</th>\n",
              "      <th>transcript_id</th>\n",
              "      <th>character</th>\n",
              "      <th>text</th>\n",
              "      <th>Keywords / Significant sentences</th>\n",
              "      <th>A1</th>\n",
              "      <th>B1</th>\n",
              "      <th>B2</th>\n",
              "      <th>B3</th>\n",
              "      <th>B4</th>\n",
              "      <th>B5</th>\n",
              "      <th>C1</th>\n",
              "      <th>C2</th>\n",
              "      <th>D1</th>\n",
              "      <th>D2</th>\n",
              "      <th>D3</th>\n",
              "      <th>D4</th>\n",
              "      <th>D5</th>\n",
              "      <th>D6</th>\n",
              "      <th>D7</th>\n",
              "      <th>E1</th>\n",
              "      <th>E2</th>\n",
              "      <th>E3</th>\n",
              "      <th>E4</th>\n",
              "      <th>E5</th>\n",
              "      <th>E6</th>\n",
              "      <th>F1</th>\n",
              "      <th>G1</th>\n",
              "    </tr>\n",
              "  </thead>\n",
              "  <tbody>\n",
              "    <tr>\n",
              "      <th>4</th>\n",
              "      <td>PTSD_file_1</td>\n",
              "      <td>CLIENT</td>\n",
              "      <td>Remind me never to go to a work meeting with a...</td>\n",
              "      <td></td>\n",
              "      <td>0</td>\n",
              "      <td>0</td>\n",
              "      <td>0</td>\n",
              "      <td>0</td>\n",
              "      <td>0</td>\n",
              "      <td>0</td>\n",
              "      <td>0</td>\n",
              "      <td>0</td>\n",
              "      <td>0</td>\n",
              "      <td>0</td>\n",
              "      <td>0</td>\n",
              "      <td>0</td>\n",
              "      <td>0</td>\n",
              "      <td>0</td>\n",
              "      <td>0</td>\n",
              "      <td>0</td>\n",
              "      <td>0</td>\n",
              "      <td>0</td>\n",
              "      <td>0</td>\n",
              "      <td>0</td>\n",
              "      <td>0</td>\n",
              "      <td>0</td>\n",
              "      <td>0</td>\n",
              "    </tr>\n",
              "    <tr>\n",
              "      <th>5</th>\n",
              "      <td>PTSD_file_1</td>\n",
              "      <td>THERAPIST</td>\n",
              "      <td>Those darn women.</td>\n",
              "      <td></td>\n",
              "      <td>0</td>\n",
              "      <td>0</td>\n",
              "      <td>0</td>\n",
              "      <td>0</td>\n",
              "      <td>0</td>\n",
              "      <td>0</td>\n",
              "      <td>0</td>\n",
              "      <td>0</td>\n",
              "      <td>0</td>\n",
              "      <td>0</td>\n",
              "      <td>0</td>\n",
              "      <td>0</td>\n",
              "      <td>0</td>\n",
              "      <td>0</td>\n",
              "      <td>0</td>\n",
              "      <td>0</td>\n",
              "      <td>0</td>\n",
              "      <td>0</td>\n",
              "      <td>0</td>\n",
              "      <td>0</td>\n",
              "      <td>0</td>\n",
              "      <td>0</td>\n",
              "      <td>0</td>\n",
              "    </tr>\n",
              "    <tr>\n",
              "      <th>6</th>\n",
              "      <td>PTSD_file_1</td>\n",
              "      <td>CLIENT</td>\n",
              "      <td>Damn women. Our boss is she's just a shut the ...</td>\n",
              "      <td></td>\n",
              "      <td>0</td>\n",
              "      <td>0</td>\n",
              "      <td>0</td>\n",
              "      <td>0</td>\n",
              "      <td>0</td>\n",
              "      <td>0</td>\n",
              "      <td>0</td>\n",
              "      <td>0</td>\n",
              "      <td>0</td>\n",
              "      <td>0</td>\n",
              "      <td>0</td>\n",
              "      <td>0</td>\n",
              "      <td>0</td>\n",
              "      <td>0</td>\n",
              "      <td>0</td>\n",
              "      <td>0</td>\n",
              "      <td>0</td>\n",
              "      <td>0</td>\n",
              "      <td>0</td>\n",
              "      <td>0</td>\n",
              "      <td>0</td>\n",
              "      <td>0</td>\n",
              "      <td>0</td>\n",
              "    </tr>\n",
              "    <tr>\n",
              "      <th>7</th>\n",
              "      <td>PTSD_file_1</td>\n",
              "      <td>THERAPIST</td>\n",
              "      <td>It's not that comfortable.</td>\n",
              "      <td></td>\n",
              "      <td>0</td>\n",
              "      <td>0</td>\n",
              "      <td>0</td>\n",
              "      <td>0</td>\n",
              "      <td>0</td>\n",
              "      <td>0</td>\n",
              "      <td>0</td>\n",
              "      <td>0</td>\n",
              "      <td>0</td>\n",
              "      <td>0</td>\n",
              "      <td>0</td>\n",
              "      <td>0</td>\n",
              "      <td>0</td>\n",
              "      <td>0</td>\n",
              "      <td>0</td>\n",
              "      <td>0</td>\n",
              "      <td>0</td>\n",
              "      <td>0</td>\n",
              "      <td>0</td>\n",
              "      <td>0</td>\n",
              "      <td>0</td>\n",
              "      <td>0</td>\n",
              "      <td>0</td>\n",
              "    </tr>\n",
              "    <tr>\n",
              "      <th>8</th>\n",
              "      <td>PTSD_file_1</td>\n",
              "      <td>CLIENT</td>\n",
              "      <td>What's that?</td>\n",
              "      <td></td>\n",
              "      <td>0</td>\n",
              "      <td>0</td>\n",
              "      <td>0</td>\n",
              "      <td>0</td>\n",
              "      <td>0</td>\n",
              "      <td>0</td>\n",
              "      <td>0</td>\n",
              "      <td>0</td>\n",
              "      <td>0</td>\n",
              "      <td>0</td>\n",
              "      <td>0</td>\n",
              "      <td>0</td>\n",
              "      <td>0</td>\n",
              "      <td>0</td>\n",
              "      <td>0</td>\n",
              "      <td>0</td>\n",
              "      <td>0</td>\n",
              "      <td>0</td>\n",
              "      <td>0</td>\n",
              "      <td>0</td>\n",
              "      <td>0</td>\n",
              "      <td>0</td>\n",
              "      <td>0</td>\n",
              "    </tr>\n",
              "  </tbody>\n",
              "</table>\n",
              "</div>"
            ],
            "text/plain": [
              "3 transcript_id  character  ... F1 G1\n",
              "4   PTSD_file_1     CLIENT  ...  0  0\n",
              "5   PTSD_file_1  THERAPIST  ...  0  0\n",
              "6   PTSD_file_1     CLIENT  ...  0  0\n",
              "7   PTSD_file_1  THERAPIST  ...  0  0\n",
              "8   PTSD_file_1     CLIENT  ...  0  0\n",
              "\n",
              "[5 rows x 27 columns]"
            ]
          },
          "metadata": {
            "tags": []
          },
          "execution_count": 35
        }
      ]
    },
    {
      "cell_type": "markdown",
      "metadata": {
        "id": "pfc9a_MdjoLh",
        "colab_type": "text"
      },
      "source": [
        "Remove the first row and set it as the header"
      ]
    },
    {
      "cell_type": "code",
      "metadata": {
        "id": "v21m0Crmjmfc",
        "colab_type": "code",
        "outputId": "19dae942-fdca-4b8d-8531-1a04aaf0edd2",
        "colab": {
          "base_uri": "https://localhost:8080/",
          "height": 191
        }
      },
      "source": [
        "sheet_annotate = pd.DataFrame.from_records(rows_annotate)\n",
        "header = sheet_annotate.iloc[1]\n",
        "sheet_annotate = sheet_annotate.iloc[2:]\n",
        "sheet_annotate.columns = header\n",
        "\n",
        "\n",
        "sheet_annotate.drop([14,15,16,29,30,31,32,33,43,44,49,48],inplace=True)\n",
        "sheet_annotate.tail()"
      ],
      "execution_count": 0,
      "outputs": [
        {
          "output_type": "execute_result",
          "data": {
            "text/html": [
              "<div>\n",
              "<style scoped>\n",
              "    .dataframe tbody tr th:only-of-type {\n",
              "        vertical-align: middle;\n",
              "    }\n",
              "\n",
              "    .dataframe tbody tr th {\n",
              "        vertical-align: top;\n",
              "    }\n",
              "\n",
              "    .dataframe thead th {\n",
              "        text-align: right;\n",
              "    }\n",
              "</style>\n",
              "<table border=\"1\" class=\"dataframe\">\n",
              "  <thead>\n",
              "    <tr style=\"text-align: right;\">\n",
              "      <th>1</th>\n",
              "      <th>Session_id</th>\n",
              "      <th>Scorer</th>\n",
              "      <th>A</th>\n",
              "      <th>B</th>\n",
              "      <th>C</th>\n",
              "      <th>D</th>\n",
              "      <th>E</th>\n",
              "      <th>G</th>\n",
              "    </tr>\n",
              "  </thead>\n",
              "  <tbody>\n",
              "    <tr>\n",
              "      <th>41</th>\n",
              "      <td>PTSD_file_40</td>\n",
              "      <td>Abby</td>\n",
              "      <td>1</td>\n",
              "      <td>1</td>\n",
              "      <td>0</td>\n",
              "      <td>1</td>\n",
              "      <td>0</td>\n",
              "      <td>1</td>\n",
              "    </tr>\n",
              "    <tr>\n",
              "      <th>42</th>\n",
              "      <td>PTSD_file_41</td>\n",
              "      <td>Abby</td>\n",
              "      <td>0</td>\n",
              "      <td>0</td>\n",
              "      <td>0</td>\n",
              "      <td>0</td>\n",
              "      <td>0</td>\n",
              "      <td>0</td>\n",
              "    </tr>\n",
              "    <tr>\n",
              "      <th>45</th>\n",
              "      <td>PTSD_file_44</td>\n",
              "      <td>Colton</td>\n",
              "      <td>0</td>\n",
              "      <td>0</td>\n",
              "      <td>0</td>\n",
              "      <td>1</td>\n",
              "      <td>0</td>\n",
              "      <td>0</td>\n",
              "    </tr>\n",
              "    <tr>\n",
              "      <th>46</th>\n",
              "      <td>PTSD_file_45</td>\n",
              "      <td>Colton</td>\n",
              "      <td>0</td>\n",
              "      <td>0</td>\n",
              "      <td>0</td>\n",
              "      <td>0</td>\n",
              "      <td>0</td>\n",
              "      <td>0</td>\n",
              "    </tr>\n",
              "    <tr>\n",
              "      <th>47</th>\n",
              "      <td>PTSD_file_46</td>\n",
              "      <td>Albert</td>\n",
              "      <td>1</td>\n",
              "      <td>0</td>\n",
              "      <td>1</td>\n",
              "      <td>0</td>\n",
              "      <td>0</td>\n",
              "      <td>0</td>\n",
              "    </tr>\n",
              "  </tbody>\n",
              "</table>\n",
              "</div>"
            ],
            "text/plain": [
              "1     Session_id  Scorer  A  B  C  D  E  G\n",
              "41  PTSD_file_40    Abby  1  1  0  1  0  1\n",
              "42  PTSD_file_41    Abby  0  0  0  0  0  0\n",
              "45  PTSD_file_44  Colton  0  0  0  1  0  0\n",
              "46  PTSD_file_45  Colton  0  0  0  0  0  0\n",
              "47  PTSD_file_46  Albert  1  0  1  0  0  0"
            ]
          },
          "metadata": {
            "tags": []
          },
          "execution_count": 36
        }
      ]
    },
    {
      "cell_type": "markdown",
      "metadata": {
        "id": "u1njA23Ix1ak",
        "colab_type": "text"
      },
      "source": [
        "Extract labels and sum to get calculated PTSD Risk"
      ]
    },
    {
      "cell_type": "code",
      "metadata": {
        "id": "tfmrbHgVvxK4",
        "colab_type": "code",
        "colab": {}
      },
      "source": [
        "sheet_annotate.iloc[:,2:] = sheet_annotate.iloc[:,2:].astype('int32')\n",
        "labels = sheet_annotate.iloc[:,2:].sum(axis = 1, skipna = True) /6"
      ],
      "execution_count": 0,
      "outputs": []
    },
    {
      "cell_type": "markdown",
      "metadata": {
        "id": "l-GrBBGARwS4",
        "colab_type": "text"
      },
      "source": [
        "Extract data by PTSD file name"
      ]
    },
    {
      "cell_type": "code",
      "metadata": {
        "id": "FHZP9acHmRXb",
        "colab_type": "code",
        "colab": {}
      },
      "source": [
        "Session_id = sheet_annotate['Session_id'][:46]\n",
        "\n",
        "clients_texts = []\n",
        "for i in Session_id:\n",
        "  \n",
        "  #get each client text and combine them into a single array\n",
        "  client_text = sheet_text.loc[(sheet_text.transcript_id == i)&(sheet_text.character == 'CLIENT')].text.values.ravel()\n",
        "  \n",
        "  #append to list\n",
        "  clients_texts.append(client_text)\n",
        "  \n"
      ],
      "execution_count": 0,
      "outputs": []
    },
    {
      "cell_type": "code",
      "metadata": {
        "id": "EFAhvUoZPtFG",
        "colab_type": "code",
        "outputId": "4c8fa23b-60d1-4307-88ce-4efb97c96db6",
        "colab": {
          "base_uri": "https://localhost:8080/",
          "height": 33
        }
      },
      "source": [
        "len(clients_texts)"
      ],
      "execution_count": 0,
      "outputs": [
        {
          "output_type": "execute_result",
          "data": {
            "text/plain": [
              "36"
            ]
          },
          "metadata": {
            "tags": []
          },
          "execution_count": 39
        }
      ]
    },
    {
      "cell_type": "markdown",
      "metadata": {
        "id": "IAAcWEZ_R6_8",
        "colab_type": "text"
      },
      "source": [
        "Make it a block of text for each client rather than separate statements: to ease processing"
      ]
    },
    {
      "cell_type": "code",
      "metadata": {
        "id": "LZ-1eyJJnom8",
        "colab_type": "code",
        "outputId": "0018671d-5bb8-415b-f647-604e1c4a848d",
        "colab": {
          "base_uri": "https://localhost:8080/",
          "height": 33
        }
      },
      "source": [
        "clients_texts_block = []\n",
        "for i in clients_texts:\n",
        "  line=\"\"\n",
        "  for j in i:\n",
        "    line += j \n",
        "  clients_texts_block.append(line)\n",
        "\n",
        "\n",
        "\n",
        "clients_texts_block = np.array(clients_texts_block)\n",
        "\n",
        "len(clients_texts_block)"
      ],
      "execution_count": 0,
      "outputs": [
        {
          "output_type": "execute_result",
          "data": {
            "text/plain": [
              "36"
            ]
          },
          "metadata": {
            "tags": []
          },
          "execution_count": 40
        }
      ]
    },
    {
      "cell_type": "markdown",
      "metadata": {
        "id": "iNcQvqG7xglQ",
        "colab_type": "text"
      },
      "source": [
        "## Clean Up"
      ]
    },
    {
      "cell_type": "markdown",
      "metadata": {
        "id": "HGuXQQvsfOv6",
        "colab_type": "text"
      },
      "source": [
        "Getting tools for cleaning up dataset"
      ]
    },
    {
      "cell_type": "code",
      "metadata": {
        "id": "18oatocvGB55",
        "colab_type": "code",
        "outputId": "94178770-47aa-4f5a-8610-534e1f7bccff",
        "colab": {
          "base_uri": "https://localhost:8080/",
          "height": 82
        }
      },
      "source": [
        "\n",
        "nltk.download('stopwords')\n",
        "nltk.download('punkt')\n",
        "from nltk.corpus import stopwords\n",
        "import re\n",
        "stop_words = set(stopwords.words('english'))"
      ],
      "execution_count": 0,
      "outputs": [
        {
          "output_type": "stream",
          "text": [
            "[nltk_data] Downloading package stopwords to /root/nltk_data...\n",
            "[nltk_data]   Package stopwords is already up-to-date!\n",
            "[nltk_data] Downloading package punkt to /root/nltk_data...\n",
            "[nltk_data]   Package punkt is already up-to-date!\n"
          ],
          "name": "stdout"
        }
      ]
    },
    {
      "cell_type": "markdown",
      "metadata": {
        "id": "SgyC4eO5LS3o",
        "colab_type": "text"
      },
      "source": [
        "Cleaning up the data"
      ]
    },
    {
      "cell_type": "code",
      "metadata": {
        "colab_type": "code",
        "id": "A6jdKk9wLRuM",
        "colab": {}
      },
      "source": [
        "\n",
        "def clean_up(X):\n",
        "  X_clean =np.empty(X.shape[0],dtype=object)\n",
        "  \n",
        "  \n",
        "  index= 0\n",
        "  for line in X:\n",
        "   \n",
        "    #removes text in brackets like inaudible\n",
        "    line = re.sub(\"[\\(\\[].*?[\\)\\]]\", \"\", line)\n",
        "    \n",
        "    # Tokenize the string into words\n",
        "    tokens = word_tokenize(line)\n",
        "\n",
        "    # Remove non-alphabetic tokens, such as punctuation\n",
        "    words = [word.lower() for word in tokens if word.isalpha()]\n",
        "\n",
        "    # Filter out stopwords\n",
        "    \n",
        "    X_clean[index]  = [word for word in words if not word in stop_words]\n",
        "    \n",
        "    index+=1\n",
        "    \n",
        "  return X_clean\n",
        "    \n",
        "  \n",
        "\n"
      ],
      "execution_count": 0,
      "outputs": []
    },
    {
      "cell_type": "code",
      "metadata": {
        "colab_type": "code",
        "id": "PzfE0bRQdfn_",
        "colab": {}
      },
      "source": [
        "clients_texts_clean = clean_up(clients_texts_block)\n"
      ],
      "execution_count": 0,
      "outputs": []
    },
    {
      "cell_type": "code",
      "metadata": {
        "colab_type": "code",
        "outputId": "898e9357-22d1-44ba-a8c6-5771059afdba",
        "id": "zzdHcbdQpE3y",
        "colab": {
          "base_uri": "https://localhost:8080/",
          "height": 33
        }
      },
      "source": [
        "cd .."
      ],
      "execution_count": 0,
      "outputs": [
        {
          "output_type": "stream",
          "text": [
            "/content/drive/My Drive\n"
          ],
          "name": "stdout"
        }
      ]
    },
    {
      "cell_type": "markdown",
      "metadata": {
        "colab_type": "text",
        "id": "Xovuc9W1pE32"
      },
      "source": [
        "Using  word embeddings on dataset to vectorize text data. Did not want to use tfidf because the dataset is so small and getting the same words in the same class that signify PTSD risk might be difficult.\n",
        "\n",
        "Could be wrong though"
      ]
    },
    {
      "cell_type": "code",
      "metadata": {
        "colab_type": "code",
        "outputId": "e9702d60-e606-4ac3-d376-1ce5021a7eaf",
        "id": "VNJ6FLlfpE32",
        "colab": {
          "base_uri": "https://localhost:8080/",
          "height": 33
        }
      },
      "source": [
        "\n",
        "#my personally stored trained word embeddings\n",
        "\n",
        "model = KeyedVectors.load(\"word_vectors.kv\")\n",
        "model['word'].shape"
      ],
      "execution_count": 0,
      "outputs": [
        {
          "output_type": "execute_result",
          "data": {
            "text/plain": [
              "(300,)"
            ]
          },
          "metadata": {
            "tags": []
          },
          "execution_count": 45
        }
      ]
    },
    {
      "cell_type": "markdown",
      "metadata": {
        "colab_type": "text",
        "id": "hxr3WSRspE35"
      },
      "source": [
        "\n",
        "Function to reduce the number of embeddings for each client, it performs an average of each row of word embeddings"
      ]
    },
    {
      "cell_type": "code",
      "metadata": {
        "colab_type": "code",
        "id": "NLiPdeOOpE36",
        "colab": {}
      },
      "source": [
        "def document_vector(model, doc):\n",
        "    # remove out-of-vocabulary words\n",
        "    \n",
        "    doc = [word for word in doc if word in model.vocab]\n",
        "    if doc:\n",
        "      return np.mean(model[doc], axis=0)\n",
        "  \n"
      ],
      "execution_count": 0,
      "outputs": []
    },
    {
      "cell_type": "code",
      "metadata": {
        "colab_type": "code",
        "id": "-e08EyZEpE4B",
        "colab": {}
      },
      "source": [
        "clients_texts_embed = []\n",
        "for i in clients_texts_clean:\n",
        "  clients_texts_embed.append(document_vector(model,i))\n",
        "  \n",
        "clients_texts_embed=np.array(clients_texts_embed)\n"
      ],
      "execution_count": 0,
      "outputs": []
    },
    {
      "cell_type": "code",
      "metadata": {
        "colab_type": "code",
        "outputId": "dff212c8-1ff1-41a2-9f21-f78142d09b77",
        "id": "2xAddS6kpE4G",
        "colab": {
          "base_uri": "https://localhost:8080/",
          "height": 33
        }
      },
      "source": [
        "clients_texts_embed.shape"
      ],
      "execution_count": 0,
      "outputs": [
        {
          "output_type": "execute_result",
          "data": {
            "text/plain": [
              "(36, 300)"
            ]
          },
          "metadata": {
            "tags": []
          },
          "execution_count": 48
        }
      ]
    },
    {
      "cell_type": "code",
      "metadata": {
        "id": "onc3pa7RX_jT",
        "colab_type": "code",
        "colab": {}
      },
      "source": [
        "X = clients_texts_embed\n",
        "y = labels.values"
      ],
      "execution_count": 0,
      "outputs": []
    },
    {
      "cell_type": "markdown",
      "metadata": {
        "id": "6g0hG5v-XKNb",
        "colab_type": "text"
      },
      "source": [
        "### Visualization"
      ]
    },
    {
      "cell_type": "code",
      "metadata": {
        "id": "fJbLiQLCXJX0",
        "colab_type": "code",
        "outputId": "611f37a4-22f5-40cc-b01e-2ab7e88440cb",
        "colab": {
          "base_uri": "https://localhost:8080/",
          "height": 286
        }
      },
      "source": [
        "import seaborn as sns\n",
        "from sklearn.decomposition import PCA\n",
        "\n",
        "\n",
        "pca = PCA(n_components=2)\n",
        "pca_components = pca.fit_transform(X)  \n",
        "\n",
        "xs = pca_components[:,0]\n",
        "ys = pca_components[:,1]\n",
        "\n",
        "sns.scatterplot(xs,ys,hue=y>0.5) \n",
        "#True - presence of PTSD risk"
      ],
      "execution_count": 0,
      "outputs": [
        {
          "output_type": "execute_result",
          "data": {
            "text/plain": [
              "<matplotlib.axes._subplots.AxesSubplot at 0x7f23bd489128>"
            ]
          },
          "metadata": {
            "tags": []
          },
          "execution_count": 50
        },
        {
          "output_type": "display_data",
          "data": {
            "image/png": "[encoded data removed]",
            "text/plain": [
              "<Figure size 432x288 with 1 Axes>"
            ]
          },
          "metadata": {
            "tags": []
          }
        }
      ]
    },
    {
      "cell_type": "markdown",
      "metadata": {
        "id": "2M24wCqkXCzo",
        "colab_type": "text"
      },
      "source": [
        "Classes don't seem separable"
      ]
    },
    {
      "cell_type": "markdown",
      "metadata": {
        "id": "WQKl-40FWuyu",
        "colab_type": "text"
      },
      "source": [
        "## Training"
      ]
    },
    {
      "cell_type": "markdown",
      "metadata": {
        "id": "pSn2R9H8OLPc",
        "colab_type": "text"
      },
      "source": [
        "### Logistic Regression"
      ]
    },
    {
      "cell_type": "code",
      "metadata": {
        "id": "ACkLw_w0ZFzF",
        "colab_type": "code",
        "colab": {}
      },
      "source": [
        "#Remove warnings\n",
        "import warnings\n",
        "warnings.filterwarnings('ignore')"
      ],
      "execution_count": 0,
      "outputs": []
    },
    {
      "cell_type": "markdown",
      "metadata": {
        "id": "pHT3QTW-VCb5",
        "colab_type": "text"
      },
      "source": [
        "1. Used Stratify kfold to evaluate overfitting while ensuring representation of all classes in all folds\n",
        "2. Set class_weight to balanced to give higher weight to underrepresented class\n",
        "3.Used recall score and accuracy score to evaluate accuracy on each fold\n"
      ]
    },
    {
      "cell_type": "code",
      "metadata": {
        "id": "qGpIbrGUOO9p",
        "colab_type": "code",
        "outputId": "cd95516a-0cc5-4af0-d54c-49e1a2451f9c",
        "colab": {
          "base_uri": "https://localhost:8080/",
          "height": 147
        }
      },
      "source": [
        "from sklearn.linear_model import LogisticRegression\n",
        "from sklearn.metrics import recall_score,confusion_matrix,accuracy_score\n",
        "from sklearn.model_selection import StratifiedKFold\n",
        "\n",
        "#stratified kfold\n",
        "skf = StratifiedKFold(n_splits=5)\n",
        "\n",
        "#initialize list to store the confusion matrices                      \n",
        "cm = []\n",
        "print(\"Train Accuracy \\t\\t\\t\\t\\t Test Accuracy\")\n",
        "print(\"[accuracy_score,recall_score] \\t\\t [accuracy_score,recall_score]\\n\")\n",
        "for train_index, test_index in skf.split(X, y):\n",
        "  \n",
        "  X_train, X_test = X[train_index], X[test_index]\n",
        "  y_train, y_test = y[train_index], y[test_index]\n",
        "  \n",
        "  #seemingly the best hyperparameters\n",
        "  clf = LogisticRegression(random_state=0, C=1,solver='liblinear',class_weight=\"balanced\").fit(X_train, y_train)\n",
        "                     \n",
        "                      \n",
        "  pred_train = clf.predict(X_train)\n",
        "  pred_test = clf.predict(X_test)\n",
        "\n",
        "  train_acc = [accuracy_score(y_train,pred_train),recall_score(y_train,pred_train)]\n",
        "  test_acc = [accuracy_score(y_test,pred_test),recall_score(y_test,pred_test)]\n",
        "  \n",
        "  cm.append(confusion_matrix(y_test,pred_test))\n",
        "\n",
        "  print(train_acc,\"\\t\\t\",test_acc)"
      ],
      "execution_count": 0,
      "outputs": [
        {
          "output_type": "stream",
          "text": [
            "Train Accuracy \t\t\t\t\t Test Accuracy\n",
            "[accuracy_score,recall_score] \t\t [accuracy_score,recall_score]\n",
            "\n",
            "[0.6785714285714286, 1.0] \t\t [0.5, 1.0]\n",
            "[0.6785714285714286, 1.0] \t\t [0.375, 0.5]\n",
            "[0.5862068965517241, 1.0] \t\t [0.5714285714285714, 0.5]\n",
            "[0.9310344827586207, 1.0] \t\t [0.42857142857142855, 0.0]\n",
            "[0.6666666666666666, 1.0] \t\t [0.8333333333333334, 1.0]\n"
          ],
          "name": "stdout"
        }
      ]
    },
    {
      "cell_type": "code",
      "metadata": {
        "id": "y8L60O5ce7Jd",
        "colab_type": "code",
        "outputId": "c81baec8-fbd8-48b4-9f48-a979d6295680",
        "colab": {
          "base_uri": "https://localhost:8080/",
          "height": 261
        }
      },
      "source": [
        "#for test data only\n",
        "for i in range(len(cm)):\n",
        "  print(\"Test Fold\",i)\n",
        "  print(cm[i])"
      ],
      "execution_count": 0,
      "outputs": [
        {
          "output_type": "stream",
          "text": [
            "Test Fold 0\n",
            "[[2 4]\n",
            " [0 2]]\n",
            "Test Fold 1\n",
            "[[2 4]\n",
            " [1 1]]\n",
            "Test Fold 2\n",
            "[[3 2]\n",
            " [1 1]]\n",
            "Test Fold 3\n",
            "[[3 2]\n",
            " [2 0]]\n",
            "Test Fold 4\n",
            "[[4 1]\n",
            " [0 1]]\n"
          ],
          "name": "stdout"
        }
      ]
    },
    {
      "cell_type": "markdown",
      "metadata": {
        "id": "LtgK3wuzXq9o",
        "colab_type": "text"
      },
      "source": [
        "### SVM"
      ]
    },
    {
      "cell_type": "code",
      "metadata": {
        "id": "l1wNqP6Wf5P5",
        "colab_type": "code",
        "outputId": "492f7586-d0f6-4e4e-f391-478fe4ffd1c2",
        "colab": {
          "base_uri": "https://localhost:8080/",
          "height": 147
        }
      },
      "source": [
        "from sklearn.svm import LinearSVC\n",
        "\n",
        "\n",
        "#stratified kfold\n",
        "skf = StratifiedKFold(n_splits=5)\n",
        "\n",
        "#initialize list t#seemingly the best hyperparameters#seemingly the best hyperparameterso store the confusion matrices \n",
        "cm = []\n",
        "print(\"Train Accuracy \\t\\t\\t\\t\\t Test Accuracy\")\n",
        "print(\"[accuracy_score,recall_score] \\t\\t [accuracy_score,recall_score]\\n\")\n",
        "\n",
        "for train_index, test_index in skf.split(X, y):\n",
        "  \n",
        "  X_train, X_test = X[train_index], X[test_index]\n",
        "  y_train, y_test = y[train_index], y[test_index]\n",
        "  \n",
        "  #seemingly the best hyperparameters\n",
        "  clf = LinearSVC(C=1,class_weight=\"balanced\").fit(X_train, y_train)\n",
        "  pred_train = clf.predict(X_train)\n",
        "  pred_test = clf.predict(X_test)\n",
        "\n",
        "  train_acc = [accuracy_score(y_train,pred_train),recall_score(y_train,pred_train)]\n",
        "  test_acc = [accuracy_score(y_test,pred_test),recall_score(y_test,pred_test)]\n",
        "  \n",
        "  cm.append(confusion_matrix(y_test,pred_test))\n",
        "\n",
        "  print(train_acc,\"\\t\\t\",test_acc)"
      ],
      "execution_count": 0,
      "outputs": [
        {
          "output_type": "stream",
          "text": [
            "Train Accuracy \t\t\t\t\t Test Accuracy\n",
            "[accuracy_score,recall_score] \t\t [accuracy_score,recall_score]\n",
            "\n",
            "[0.6785714285714286, 1.0] \t\t [0.75, 1.0]\n",
            "[0.75, 1.0] \t\t [0.5, 0.5]\n",
            "[0.9310344827586207, 1.0] \t\t [0.42857142857142855, 0.0]\n",
            "[0.9310344827586207, 1.0] \t\t [0.42857142857142855, 0.0]\n",
            "[0.9, 1.0] \t\t [0.8333333333333334, 1.0]\n"
          ],
          "name": "stdout"
        }
      ]
    },
    {
      "cell_type": "code",
      "metadata": {
        "id": "7aupL9cJYVfq",
        "colab_type": "code",
        "outputId": "2b7d271a-cd3d-431a-9e12-59e5713a67bf",
        "colab": {
          "base_uri": "https://localhost:8080/",
          "height": 261
        }
      },
      "source": [
        "#for test data only\n",
        "for i in range(len(cm)):\n",
        "  print(\"Test Fold\",i)\n",
        "  print(cm[i])"
      ],
      "execution_count": 0,
      "outputs": [
        {
          "output_type": "stream",
          "text": [
            "Test Fold 0\n",
            "[[4 2]\n",
            " [0 2]]\n",
            "Test Fold 1\n",
            "[[3 3]\n",
            " [1 1]]\n",
            "Test Fold 2\n",
            "[[3 2]\n",
            " [2 0]]\n",
            "Test Fold 3\n",
            "[[3 2]\n",
            " [2 0]]\n",
            "Test Fold 4\n",
            "[[4 1]\n",
            " [0 1]]\n"
          ],
          "name": "stdout"
        }
      ]
    }
  ]
}